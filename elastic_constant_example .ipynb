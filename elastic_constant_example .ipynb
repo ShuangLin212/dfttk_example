{
 "cells": [
  {
   "cell_type": "markdown",
   "metadata": {},
   "source": [
    "# Elastic_constant_calculation_example \n",
    "\n",
    "Here we take pure Al as the elastic constant calculation example\n",
    "\n",
    "Set up a stastic calculation of Al."
   ]
  },
  {
   "cell_type": "markdown",
   "metadata": {},
   "source": [
    "Make a directory of performing stastic calculation of Al prepare the Al POSCAR in the Al_static directory"
   ]
  },
  {
   "cell_type": "code",
   "execution_count": 2,
   "metadata": {},
   "outputs": [],
   "source": [
    "!mkdir Al_static"
   ]
  },
  {
   "cell_type": "markdown",
   "metadata": {},
   "source": [
    "Move into the Al_static "
   ]
  },
  {
   "cell_type": "code",
   "execution_count": 3,
   "metadata": {},
   "outputs": [],
   "source": [
    "!cd Al_static"
   ]
  },
  {
   "cell_type": "markdown",
   "metadata": {},
   "source": [
    "Check and show the Al POSCAR  "
   ]
  },
  {
   "cell_type": "code",
   "execution_count": 2,
   "metadata": {},
   "outputs": [
    {
     "name": "stdout",
     "output_type": "stream",
     "text": [
      "Al\r\n",
      "4.05\r\n",
      "0 .5 .5\r\n",
      ".5 0 .5\r\n",
      ".5 .5 0\r\n",
      "Al\r\n",
      "1\r\n",
      "D\r\n",
      "0 0 0\r\n"
     ]
    }
   ],
   "source": [
    "!cat POSCAR.Al"
   ]
  },
  {
   "cell_type": "markdown",
   "metadata": {},
   "source": [
    "Run the stastic calculation of Al"
   ]
  },
  {
   "cell_type": "code",
   "execution_count": 3,
   "metadata": {},
   "outputs": [
    {
     "name": "stdout",
     "output_type": "stream",
     "text": [
      "DFTTK version: 0.3.4+56.g95aa78a\n",
      "Copyright © Phases Research Lab (https://www.phaseslab.com/)\n",
      "\n",
      "2021-11-03 10:06:02,165 INFO Added a workflow. id_map: {-3: 819, -2: 820, -1: 821}\n",
      "/Library/Frameworks/Python.framework/Versions/3.9/lib/python3.9/site-packages/pymatgen/analysis/path_finder.py:36: FutureWarning: This code has been superseded by pymatgen.analysis.neb in the separate add-on packagepymatgen-diffusion. This module here is retained for backwards compatibility. It will be removed from2022.1.1.\n",
      "  warnings.warn(\n",
      "2021-11-03 10:06:03,970 INFO moving to launch_dir /Users/shuanglin/OneDrive - The Pennsylvania State University/DFTTK/Al_static\n",
      "2021-11-03 10:06:03,971 ERROR ----|vvv|----\n",
      "2021-11-03 10:06:03,971 ERROR Error writing/submitting queue script!\n",
      "2021-11-03 10:06:03,972 ERROR Traceback (most recent call last):\n",
      "  File \"/Library/Frameworks/Python.framework/Versions/3.9/lib/python3.9/site-packages/fireworks/queue/queue_launcher.py\", line 130, in launch_rocket_to_queue\n",
      "    queue_script = qadapter.get_script_str(launcher_dir)\n",
      "  File \"/Library/Frameworks/Python.framework/Versions/3.9/lib/python3.9/site-packages/fireworks/queue/queue_adapter.py\", line 125, in get_script_str\n",
      "    with open(self.template_file) as f:\n",
      "FileNotFoundError: [Errno 2] No such file or directory: '/Users/shuanglin/OneDrive - The Pennsylvania State University/DFTTK/Al_static/config/PBS_template_custom.txt'\n",
      "\n",
      "2021-11-03 10:06:03,972 ERROR ----|^^^|----\n"
     ]
    }
   ],
   "source": [
    "!dfttk run -wf robust -f POSCAR.Al -l -m 1"
   ]
  },
  {
   "cell_type": "markdown",
   "metadata": {},
   "source": [
    "Check the workflow and make sure it is ready to start"
   ]
  },
  {
   "cell_type": "code",
   "execution_count": 6,
   "metadata": {},
   "outputs": [
    {
     "name": "stdout",
     "output_type": "stream",
     "text": [
      "[\r\n",
      "    {\r\n",
      "        \"state\": \"COMPLETED\",\r\n",
      "        \"name\": \"Al:EV_QHA--791\",\r\n",
      "        \"created_on\": \"2021-11-02T20:36:35.096000\",\r\n",
      "        \"states_list\": \"C-C-C-C-C-C\"\r\n",
      "    },\r\n",
      "    {\r\n",
      "        \"state\": \"FIZZLED\",\r\n",
      "        \"name\": \"Al:EV_QHA_Append--797\",\r\n",
      "        \"created_on\": \"2021-11-02T20:47:40.594000\",\r\n",
      "        \"states_list\": \"F-C-C-C-C-C-C-C-C-C-C-C-C-C-C-C-C-C-C-C-C-C\"\r\n",
      "    },\r\n",
      "    {\r\n",
      "        \"state\": \"READY\",\r\n",
      "        \"name\": \"Al:EV_QHA--819\",\r\n",
      "        \"created_on\": \"2021-11-03T14:06:02.085000\",\r\n",
      "        \"states_list\": \"W-W-REA\"\r\n",
      "    }\r\n",
      "]\r\n"
     ]
    }
   ],
   "source": [
    "!lpad get_wflows"
   ]
  },
  {
   "cell_type": "markdown",
   "metadata": {},
   "source": [
    "launch the job of the workflow on the Supercomputer terminal(Roar/bridge2). \n",
    "In this step, you need to log into your Roar account to run the following command"
   ]
  },
  {
   "cell_type": "markdown",
   "metadata": {},
   "source": [
    "qlaunch singleshot"
   ]
  },
  {
   "cell_type": "markdown",
   "metadata": {},
   "source": [
    "After finishing the stastic calculation, check and find the tag of the materials."
   ]
  },
  {
   "cell_type": "code",
   "execution_count": 7,
   "metadata": {},
   "outputs": [
    {
     "name": "stdout",
     "output_type": "stream",
     "text": [
      "DFTTK version: 0.3.4+56.g95aa78a\n",
      "Copyright © Phases Research Lab (https://www.phaseslab.com/)\n",
      "\n",
      "{'tag': 'e0cbcf13-d295-411c-9500-99f80803c49f'}, static:  7, natoms:   4, Ni_Fm-3m_225PBE_FM\n",
      "{'tag': '524d6721-c326-47b9-8536-91ea417fa217'}, static:  8, natoms:   4, Al_Fm-3m_225PBE\n",
      "{'tag': 'ea48f130-fb81-46ad-a00c-3a9c4e22ed90'}, static:  8, natoms:   4, Al_Fm-3m_225PBE#0\n",
      "{'tag': 'e868bb8d-a9aa-41b2-bcaa-70328218c82d'}, static:  8, natoms:   1, Al_Fm-3m_225PBE#1\n",
      "{'tag': 'c73775be-7d43-45f6-8d27-e4100512ca8a'}, static:  7, natoms:   1, Cu_Fm-3m_225PBE#0\n",
      "{'tag': '50f052ac-a301-4509-912f-9e44905f6220'}, static:  7, natoms:   1, Cu_Fm-3m_225PBE#1\n",
      "{'tag': 'c12f887a-ad6f-441e-b2a7-17ecd5a8ad05'}, static:  8, natoms:   2, Cr_Im-3m_229PBE_AFM\n",
      "{'tag': 'd822e191-cbf5-439a-9fb1-0a34f3152268'}, static:  7, natoms:  16, V3Re_P1_1PBE\n",
      "{'tag': '9e86c399-f530-45da-82ce-9fc34eb9d8f7'}, static:  8, natoms:  16, AlNi3_P1_1PBE\n",
      "{'tag': '6b84a6dd-2449-431f-b854-b04465d9de66'}, static:  6, natoms:  16, VRe3_P1_1PBE#0\n",
      "{'tag': '7302f964-a044-491a-983c-febcf42a0d38'}, static:  8, natoms:   1, Al_Fm-3m_225PBE#2\n",
      "{'tag': '543a96af-f418-4385-9f82-6be141a628d5'}, static:  8, natoms:   1, Al_Fm-3m_225PBE#3\n"
     ]
    }
   ],
   "source": [
    "!dfttk EVfind -tag"
   ]
  },
  {
   "cell_type": "markdown",
   "metadata": {},
   "source": [
    "Submit the target job with specific tag to the workflow, the elastic constant will be calculated for different volumes."
   ]
  },
  {
   "cell_type": "code",
   "execution_count": 10,
   "metadata": {},
   "outputs": [
    {
     "name": "stdout",
     "output_type": "stream",
     "text": [
      "DFTTK version: 0.3.4+56.g95aa78a\n",
      "Copyright © Phases Research Lab (https://www.phaseslab.com/)\n",
      "\n",
      "Elasticity will be calculated for volumes= [14.004409572645274, 14.965500704378636, 15.926600526154056, 16.475783644570832, 16.887680170198458, 17.84876891995076, 18.809855045900022, 19.77093515746246]  for Al  with tag: 543a96af-f418-4385-9f82-6be141a628d5 \n",
      "\n",
      "2021-11-03 13:28:15,229 INFO Added a workflow. id_map: {-26: 822, -25: 823, -24: 824, -23: 825, -22: 826, -21: 827, -20: 828, -19: 829, -18: 830, -17: 831, -16: 832, -15: 833, -14: 834, -13: 835, -12: 836, -11: 837, -10: 838, -9: 839, -8: 840, -7: 841, -6: 842, -5: 843, -4: 844, -3: 845, -2: 846, -1: 847}\n",
      "2021-11-03 13:28:15,282 INFO Added a workflow. id_map: {-52: 848, -51: 849, -50: 850, -49: 851, -48: 852, -47: 853, -46: 854, -45: 855, -44: 856, -43: 857, -42: 858, -41: 859, -40: 860, -39: 861, -38: 862, -37: 863, -36: 864, -35: 865, -34: 866, -33: 867, -32: 868, -31: 869, -30: 870, -29: 871, -28: 872, -27: 873}\n",
      "2021-11-03 13:28:15,338 INFO Added a workflow. id_map: {-78: 874, -77: 875, -76: 876, -75: 877, -74: 878, -73: 879, -72: 880, -71: 881, -70: 882, -69: 883, -68: 884, -67: 885, -66: 886, -65: 887, -64: 888, -63: 889, -62: 890, -61: 891, -60: 892, -59: 893, -58: 894, -57: 895, -56: 896, -55: 897, -54: 898, -53: 899}\n",
      "2021-11-03 13:28:15,389 INFO Added a workflow. id_map: {-104: 900, -103: 901, -102: 902, -101: 903, -100: 904, -99: 905, -98: 906, -97: 907, -96: 908, -95: 909, -94: 910, -93: 911, -92: 912, -91: 913, -90: 914, -89: 915, -88: 916, -87: 917, -86: 918, -85: 919, -84: 920, -83: 921, -82: 922, -81: 923, -80: 924, -79: 925}\n",
      "2021-11-03 13:28:15,455 INFO Added a workflow. id_map: {-130: 926, -129: 927, -128: 928, -127: 929, -126: 930, -125: 931, -124: 932, -123: 933, -122: 934, -121: 935, -120: 936, -119: 937, -118: 938, -117: 939, -116: 940, -115: 941, -114: 942, -113: 943, -112: 944, -111: 945, -110: 946, -109: 947, -108: 948, -107: 949, -106: 950, -105: 951}\n",
      "2021-11-03 13:28:15,508 INFO Added a workflow. id_map: {-156: 952, -155: 953, -154: 954, -153: 955, -152: 956, -151: 957, -150: 958, -149: 959, -148: 960, -147: 961, -146: 962, -145: 963, -144: 964, -143: 965, -142: 966, -141: 967, -140: 968, -139: 969, -138: 970, -137: 971, -136: 972, -135: 973, -134: 974, -133: 975, -132: 976, -131: 977}\n",
      "2021-11-03 13:28:15,561 INFO Added a workflow. id_map: {-182: 978, -181: 979, -180: 980, -179: 981, -178: 982, -177: 983, -176: 984, -175: 985, -174: 986, -173: 987, -172: 988, -171: 989, -170: 990, -169: 991, -168: 992, -167: 993, -166: 994, -165: 995, -164: 996, -163: 997, -162: 998, -161: 999, -160: 1000, -159: 1001, -158: 1002, -157: 1003}\n",
      "2021-11-03 13:28:15,608 INFO Added a workflow. id_map: {-208: 1004, -207: 1005, -206: 1006, -205: 1007, -204: 1008, -203: 1009, -202: 1010, -201: 1011, -200: 1012, -199: 1013, -198: 1014, -197: 1015, -196: 1016, -195: 1017, -194: 1018, -193: 1019, -192: 1020, -191: 1021, -190: 1022, -189: 1023, -188: 1024, -187: 1025, -186: 1026, -185: 1027, -184: 1028, -183: 1029}\n"
     ]
    }
   ],
   "source": [
    "dfttk run -wf elastic -a -l -tag 543a96af-f418-4385-9f82-6be141a628d5"
   ]
  },
  {
   "cell_type": "markdown",
   "metadata": {},
   "source": [
    "Check the workflow, after finishing the calculation, recheck the workflow and ensure every calculation is completed."
   ]
  },
  {
   "cell_type": "code",
   "execution_count": 11,
   "metadata": {},
   "outputs": [
    {
     "name": "stdout",
     "output_type": "stream",
     "text": [
      "[\r\n",
      "    {\r\n",
      "        \"state\": \"COMPLETED\",\r\n",
      "        \"name\": \"Al:EV_QHA--791\",\r\n",
      "        \"created_on\": \"2021-11-02T20:36:35.096000\",\r\n",
      "        \"states_list\": \"C-C-C-C-C-C\"\r\n",
      "    },\r\n",
      "    {\r\n",
      "        \"state\": \"FIZZLED\",\r\n",
      "        \"name\": \"Al:EV_QHA_Append--797\",\r\n",
      "        \"created_on\": \"2021-11-02T20:47:40.594000\",\r\n",
      "        \"states_list\": \"F-C-C-C-C-C-C-C-C-C-C-C-C-C-C-C-C-C-C-C-C-C\"\r\n",
      "    },\r\n",
      "    {\r\n",
      "        \"state\": \"READY\",\r\n",
      "        \"name\": \"Al:EV_QHA--819\",\r\n",
      "        \"created_on\": \"2021-11-03T14:06:02.085000\",\r\n",
      "        \"states_list\": \"W-W-REA\"\r\n",
      "    },\r\n",
      "    {\r\n",
      "        \"state\": \"READY\",\r\n",
      "        \"name\": \"Al:elastic constants--822\",\r\n",
      "        \"created_on\": \"2021-11-03T17:28:14.947000\",\r\n",
      "        \"states_list\": \"W-REA-REA-REA-REA-REA-REA-REA-REA-REA-REA-REA-REA-REA-REA-REA-REA-REA-REA-REA-REA-REA-REA-REA-REA-REA\"\r\n",
      "    },\r\n",
      "    {\r\n",
      "        \"state\": \"READY\",\r\n",
      "        \"name\": \"Al:elastic constants--848\",\r\n",
      "        \"created_on\": \"2021-11-03T17:28:14.968000\",\r\n",
      "        \"states_list\": \"W-REA-REA-REA-REA-REA-REA-REA-REA-REA-REA-REA-REA-REA-REA-REA-REA-REA-REA-REA-REA-REA-REA-REA-REA-REA\"\r\n",
      "    },\r\n",
      "    {\r\n",
      "        \"state\": \"READY\",\r\n",
      "        \"name\": \"Al:elastic constants--896\",\r\n",
      "        \"created_on\": \"2021-11-03T17:28:14.983000\",\r\n",
      "        \"states_list\": \"W-REA-REA-REA-REA-REA-REA-REA-REA-REA-REA-REA-REA-REA-REA-REA-REA-REA-REA-REA-REA-REA-REA-REA-REA-REA\"\r\n",
      "    },\r\n",
      "    {\r\n",
      "        \"state\": \"READY\",\r\n",
      "        \"name\": \"Al:elastic constants--900\",\r\n",
      "        \"created_on\": \"2021-11-03T17:28:14.995000\",\r\n",
      "        \"states_list\": \"W-REA-REA-REA-REA-REA-REA-REA-REA-REA-REA-REA-REA-REA-REA-REA-REA-REA-REA-REA-REA-REA-REA-REA-REA-REA\"\r\n",
      "    },\r\n",
      "    {\r\n",
      "        \"state\": \"READY\",\r\n",
      "        \"name\": \"Al:elastic constants--926\",\r\n",
      "        \"created_on\": \"2021-11-03T17:28:15.005000\",\r\n",
      "        \"states_list\": \"W-REA-REA-REA-REA-REA-REA-REA-REA-REA-REA-REA-REA-REA-REA-REA-REA-REA-REA-REA-REA-REA-REA-REA-REA-REA\"\r\n",
      "    },\r\n",
      "    {\r\n",
      "        \"state\": \"READY\",\r\n",
      "        \"name\": \"Al:elastic constants--952\",\r\n",
      "        \"created_on\": \"2021-11-03T17:28:15.015000\",\r\n",
      "        \"states_list\": \"W-REA-REA-REA-REA-REA-REA-REA-REA-REA-REA-REA-REA-REA-REA-REA-REA-REA-REA-REA-REA-REA-REA-REA-REA-REA\"\r\n",
      "    },\r\n",
      "    {\r\n",
      "        \"state\": \"READY\",\r\n",
      "        \"name\": \"Al:elastic constants--978\",\r\n",
      "        \"created_on\": \"2021-11-03T17:28:15.026000\",\r\n",
      "        \"states_list\": \"W-REA-REA-REA-REA-REA-REA-REA-REA-REA-REA-REA-REA-REA-REA-REA-REA-REA-REA-REA-REA-REA-REA-REA-REA-REA\"\r\n",
      "    },\r\n",
      "    {\r\n",
      "        \"state\": \"READY\",\r\n",
      "        \"name\": \"Al:elastic constants--1024\",\r\n",
      "        \"created_on\": \"2021-11-03T17:28:15.036000\",\r\n",
      "        \"states_list\": \"W-REA-REA-REA-REA-REA-REA-REA-REA-REA-REA-REA-REA-REA-REA-REA-REA-REA-REA-REA-REA-REA-REA-REA-REA-REA\"\r\n",
      "    }\r\n",
      "]\r\n"
     ]
    }
   ],
   "source": [
    "!lpad get_wflows"
   ]
  },
  {
   "cell_type": "markdown",
   "metadata": {},
   "source": [
    "Connect to the MongoDB database to extract the elasticity data"
   ]
  },
  {
   "cell_type": "code",
   "execution_count": 2,
   "metadata": {},
   "outputs": [],
   "source": [
    "db_file='/Users/shuanglin/dfttk/config/db.json'\n",
    "coll = 'elasticity'\n",
    "\n",
    "from pymatgen.core import Structure\n",
    "from dfttk import PRLStructure\n",
    "from atomate.vasp.database import VaspCalcDb\n",
    "import json\n",
    "import os\n",
    "\n",
    "vasp_db = VaspCalcDb.from_db_file(db_file, admin=True)\n",
    "result_db=vasp_db.db[coll]\n",
    "#tag_results=result_db.find_one({\"metadata.tag\": metadata_tag}"
   ]
  },
  {
   "cell_type": "markdown",
   "metadata": {},
   "source": [
    "list the elatic value corresonding to the materials_tag, formula, volume. For example [0][0] represents elastic constant C11 and [0][3] represents elastic constant C14, unit is GPa."
   ]
  },
  {
   "cell_type": "code",
   "execution_count": 3,
   "metadata": {},
   "outputs": [
    {
     "name": "stdout",
     "output_type": "stream",
     "text": [
      "524d6721-c326-47b9-8536-91ea417fa217 Al 14.000962065823721 229.21031310581736\n",
      "524d6721-c326-47b9-8536-91ea417fa217 Al 14.824548788189098 187.82599878013232\n",
      "524d6721-c326-47b9-8536-91ea417fa217 Al 15.648131390563341 134.1830805167072\n",
      "524d6721-c326-47b9-8536-91ea417fa217 Al 16.471721384740732 96.4978415294608\n",
      "524d6721-c326-47b9-8536-91ea417fa217 Al 17.295310772654044 75.18719258115786\n",
      "524d6721-c326-47b9-8536-91ea417fa217 Al 18.11889187112053 54.34400686871835\n",
      "524d6721-c326-47b9-8536-91ea417fa217 Al 18.942482721633795 18.185935399561174\n",
      "524d6721-c326-47b9-8536-91ea417fa217 Al 19.749593660175652 23.0203867266533\n",
      "c12f887a-ad6f-441e-b2a7-17ecd5a8ad05 Cr 10.077757459115494 826.9691522720635\n",
      "c12f887a-ad6f-441e-b2a7-17ecd5a8ad05 Cr 10.670565860694218 663.5389643654185\n",
      "c12f887a-ad6f-441e-b2a7-17ecd5a8ad05 Cr 11.263381809610681 541.0822162072193\n",
      "7302f964-a044-491a-983c-febcf42a0d38 Al 14.004299770710759 254.34086342438314\n",
      "7302f964-a044-491a-983c-febcf42a0d38 Al 14.828061754068395 197.74794540482023\n",
      "7302f964-a044-491a-983c-febcf42a0d38 Al 15.651844236314712 163.44535929279215\n",
      "7302f964-a044-491a-983c-febcf42a0d38 Al 16.47563680426953 132.8881048053615\n",
      "7302f964-a044-491a-983c-febcf42a0d38 Al 17.299406202184915 104.63695811286385\n",
      "7302f964-a044-491a-983c-febcf42a0d38 Al 18.12320757347825 84.58772230722599\n",
      "7302f964-a044-491a-983c-febcf42a0d38 Al 18.946981953545173 69.0336502380336\n",
      "7302f964-a044-491a-983c-febcf42a0d38 Al 19.75427504177397 50.057232401244846\n",
      "c12f887a-ad6f-441e-b2a7-17ecd5a8ad05 Cr 11.856189646071375 443.0412099034512\n",
      "c12f887a-ad6f-441e-b2a7-17ecd5a8ad05 Cr 12.4490044312765 377.52727512831024\n",
      "c12f887a-ad6f-441e-b2a7-17ecd5a8ad05 Cr 13.041815047464757 298.9390295821387\n",
      "c12f887a-ad6f-441e-b2a7-17ecd5a8ad05 Cr 14.215579663567292 193.72756386924357\n"
     ]
    }
   ],
   "source": [
    "for i in result_db.find({}):\n",
    "    print(i['metadata']['tag'],i['formula_pretty'],i['primitive_unitcell_volume'],i['elastic_tensor']['raw'][0][0])"
   ]
  },
  {
   "cell_type": "code",
   "execution_count": null,
   "metadata": {},
   "outputs": [],
   "source": [
    "\n"
   ]
  },
  {
   "cell_type": "code",
   "execution_count": null,
   "metadata": {},
   "outputs": [],
   "source": []
  },
  {
   "cell_type": "code",
   "execution_count": null,
   "metadata": {},
   "outputs": [],
   "source": []
  },
  {
   "cell_type": "code",
   "execution_count": null,
   "metadata": {},
   "outputs": [],
   "source": []
  },
  {
   "cell_type": "code",
   "execution_count": null,
   "metadata": {},
   "outputs": [],
   "source": []
  },
  {
   "cell_type": "code",
   "execution_count": null,
   "metadata": {},
   "outputs": [],
   "source": []
  }
 ],
 "metadata": {
  "kernelspec": {
   "display_name": "Python 3",
   "language": "python",
   "name": "python3"
  },
  "language_info": {
   "codemirror_mode": {
    "name": "ipython",
    "version": 3
   },
   "file_extension": ".py",
   "mimetype": "text/x-python",
   "name": "python",
   "nbconvert_exporter": "python",
   "pygments_lexer": "ipython3",
   "version": "3.8.3"
  }
 },
 "nbformat": 4,
 "nbformat_minor": 5
}
